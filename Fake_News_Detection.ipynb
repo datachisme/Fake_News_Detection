{
 "cells": [
  {
   "cell_type": "markdown",
   "id": "ccf9cdef",
   "metadata": {},
   "source": [
    "## Martha Gavidia \n",
    "\n",
    "# Assignment: Fake News, Real NLP\n",
    "\n",
    "## Objective:\n",
    "Design a model to predict the truthfulness of\n",
    "an article."
   ]
  },
  {
   "cell_type": "markdown",
   "id": "415db30c",
   "metadata": {},
   "source": [
    "### Import Libraries"
   ]
  },
  {
   "cell_type": "code",
   "execution_count": 1,
   "id": "348fee88",
   "metadata": {},
   "outputs": [],
   "source": [
    "import pandas as pd\n",
    "from sklearn.utils import shuffle\n",
    "import string\n",
    "import nltk\n",
    "from nltk import sent_tokenize\n",
    "from sklearn.linear_model import LogisticRegression\n",
    "from sklearn.model_selection import train_test_split\n",
    "from sklearn import metrics\n",
    "from sklearn import model_selection, preprocessing, linear_model, naive_bayes, metrics, svm\n",
    "from sklearn.feature_extraction.text import TfidfVectorizer, CountVectorizer\n",
    "from sklearn import decomposition, ensemble\n",
    "\n",
    "import numpy, string\n",
    "import seaborn as sns\n",
    "import matplotlib.pyplot as plt"
   ]
  },
  {
   "cell_type": "markdown",
   "id": "bc036e2c",
   "metadata": {},
   "source": [
    "## Data and Features\n",
    "The datasets used for this assignment come from https://www.kaggle.com/clmentbisaillon/fake-and-real-news-dataset. For feature engineering we'll focus on the titles of the news articles as this is the first thing a person reads and while the text of the articles may give more information, the titles are short which lowers computational cost.\n",
    "\n",
    "#### Some features I will be exploring include:\n",
    "- character count<br>\n",
    "- word count <br>\n",
    "- word density: character count / word count <br>\n",
    "- punctuation count <br>\n",
    "- title word count: number of words starting with a uppercase letter followed by all lowercase\n",
    "- upper case word count: count of all words that are in all uppercase\n",
    "- noun count\n",
    "- pronoun count "
   ]
  },
  {
   "cell_type": "code",
   "execution_count": 2,
   "id": "325b4ea2",
   "metadata": {},
   "outputs": [],
   "source": [
    "true_df = pd.read_csv(\"True.csv\", encoding = \"utf-8\")\n",
    "fake_df = pd.read_csv(\"Fake.csv\", encoding = \"utf-8\")\n",
    "pd.options.display.max_columns= 1000 # to see all columns"
   ]
  },
  {
   "cell_type": "markdown",
   "id": "67ff08f6",
   "metadata": {},
   "source": [
    "### True News Articles"
   ]
  },
  {
   "cell_type": "code",
   "execution_count": 3,
   "id": "83e932f9",
   "metadata": {},
   "outputs": [
    {
     "name": "stdout",
     "output_type": "stream",
     "text": [
      "There are 21417 total TRUE articles.\n"
     ]
    },
    {
     "data": {
      "text/html": [
       "<div>\n",
       "<style scoped>\n",
       "    .dataframe tbody tr th:only-of-type {\n",
       "        vertical-align: middle;\n",
       "    }\n",
       "\n",
       "    .dataframe tbody tr th {\n",
       "        vertical-align: top;\n",
       "    }\n",
       "\n",
       "    .dataframe thead th {\n",
       "        text-align: right;\n",
       "    }\n",
       "</style>\n",
       "<table border=\"1\" class=\"dataframe\">\n",
       "  <thead>\n",
       "    <tr style=\"text-align: right;\">\n",
       "      <th></th>\n",
       "      <th>title</th>\n",
       "      <th>text</th>\n",
       "      <th>subject</th>\n",
       "      <th>date</th>\n",
       "    </tr>\n",
       "  </thead>\n",
       "  <tbody>\n",
       "    <tr>\n",
       "      <th>0</th>\n",
       "      <td>As U.S. budget fight looms, Republicans flip t...</td>\n",
       "      <td>WASHINGTON (Reuters) - The head of a conservat...</td>\n",
       "      <td>politicsNews</td>\n",
       "      <td>December 31, 2017</td>\n",
       "    </tr>\n",
       "    <tr>\n",
       "      <th>1</th>\n",
       "      <td>U.S. military to accept transgender recruits o...</td>\n",
       "      <td>WASHINGTON (Reuters) - Transgender people will...</td>\n",
       "      <td>politicsNews</td>\n",
       "      <td>December 29, 2017</td>\n",
       "    </tr>\n",
       "    <tr>\n",
       "      <th>2</th>\n",
       "      <td>Senior U.S. Republican senator: 'Let Mr. Muell...</td>\n",
       "      <td>WASHINGTON (Reuters) - The special counsel inv...</td>\n",
       "      <td>politicsNews</td>\n",
       "      <td>December 31, 2017</td>\n",
       "    </tr>\n",
       "    <tr>\n",
       "      <th>3</th>\n",
       "      <td>FBI Russia probe helped by Australian diplomat...</td>\n",
       "      <td>WASHINGTON (Reuters) - Trump campaign adviser ...</td>\n",
       "      <td>politicsNews</td>\n",
       "      <td>December 30, 2017</td>\n",
       "    </tr>\n",
       "    <tr>\n",
       "      <th>4</th>\n",
       "      <td>Trump wants Postal Service to charge 'much mor...</td>\n",
       "      <td>SEATTLE/WASHINGTON (Reuters) - President Donal...</td>\n",
       "      <td>politicsNews</td>\n",
       "      <td>December 29, 2017</td>\n",
       "    </tr>\n",
       "  </tbody>\n",
       "</table>\n",
       "</div>"
      ],
      "text/plain": [
       "                                               title  \\\n",
       "0  As U.S. budget fight looms, Republicans flip t...   \n",
       "1  U.S. military to accept transgender recruits o...   \n",
       "2  Senior U.S. Republican senator: 'Let Mr. Muell...   \n",
       "3  FBI Russia probe helped by Australian diplomat...   \n",
       "4  Trump wants Postal Service to charge 'much mor...   \n",
       "\n",
       "                                                text       subject  \\\n",
       "0  WASHINGTON (Reuters) - The head of a conservat...  politicsNews   \n",
       "1  WASHINGTON (Reuters) - Transgender people will...  politicsNews   \n",
       "2  WASHINGTON (Reuters) - The special counsel inv...  politicsNews   \n",
       "3  WASHINGTON (Reuters) - Trump campaign adviser ...  politicsNews   \n",
       "4  SEATTLE/WASHINGTON (Reuters) - President Donal...  politicsNews   \n",
       "\n",
       "                 date  \n",
       "0  December 31, 2017   \n",
       "1  December 29, 2017   \n",
       "2  December 31, 2017   \n",
       "3  December 30, 2017   \n",
       "4  December 29, 2017   "
      ]
     },
     "execution_count": 3,
     "metadata": {},
     "output_type": "execute_result"
    }
   ],
   "source": [
    "print('There are',len(true_df), 'total TRUE articles.')\n",
    "true_df.head()"
   ]
  },
  {
   "cell_type": "code",
   "execution_count": 4,
   "id": "ea9aa05c",
   "metadata": {},
   "outputs": [],
   "source": [
    "true_df['char_count'] = true_df['title'].apply(len)\n",
    "true_df['word_count'] = true_df['title'].apply(lambda x: len(x.split()))\n",
    "true_df['word_density'] = true_df['char_count'] / (true_df['word_count']+1)\n",
    "true_df['punctuation_count'] = true_df['title'].apply(lambda x: len(\"\".join(_ for _ in x if _ in string.punctuation))) \n",
    "true_df['title_word_count'] = true_df['title'].apply(lambda x: len([wrd for wrd in x.split() if wrd.istitle()]))\n",
    "true_df['upper_case_word_count'] = true_df['title'].apply(lambda x: len([wrd for wrd in x.split() if wrd.isupper()]))"
   ]
  },
  {
   "cell_type": "code",
   "execution_count": 5,
   "id": "4564a343",
   "metadata": {},
   "outputs": [],
   "source": [
    "true_df['title_tokenized'] = true_df['title'].fillna('').apply(lambda x: x.split())\n",
    "true_df['title_pos'] = true_df['title_tokenized'].apply(nltk.tag.pos_tag)"
   ]
  },
  {
   "cell_type": "code",
   "execution_count": 6,
   "id": "d674722c",
   "metadata": {},
   "outputs": [],
   "source": [
    "def NounCounter(x):\n",
    "    nouns = []\n",
    "    for (word, pos) in x:\n",
    "        if pos.startswith(\"NN\"):\n",
    "            nouns.append(word)\n",
    "    return nouns\n",
    "\n",
    "true_df[\"nouns\"] = true_df[\"title_pos\"].apply(NounCounter)\n",
    "true_df[\"noun_count\"] = true_df[\"nouns\"].str.len()\n",
    "\n",
    "def ProCounter(x):\n",
    "    pros = []\n",
    "    for (word, pos) in x:\n",
    "        if pos.startswith(\"PRP\"):\n",
    "            pros.append(word)\n",
    "    return pros\n",
    "\n",
    "true_df[\"pros\"] = true_df[\"title_pos\"].apply(ProCounter)\n",
    "true_df[\"pro_count\"] = true_df[\"pros\"].str.len()"
   ]
  },
  {
   "cell_type": "markdown",
   "id": "f5c3c3fc",
   "metadata": {},
   "source": [
    "### Fake News Articles"
   ]
  },
  {
   "cell_type": "code",
   "execution_count": 7,
   "id": "4e3ed201",
   "metadata": {},
   "outputs": [
    {
     "name": "stdout",
     "output_type": "stream",
     "text": [
      "There are 23481 total FAKE articles.\n"
     ]
    },
    {
     "data": {
      "text/html": [
       "<div>\n",
       "<style scoped>\n",
       "    .dataframe tbody tr th:only-of-type {\n",
       "        vertical-align: middle;\n",
       "    }\n",
       "\n",
       "    .dataframe tbody tr th {\n",
       "        vertical-align: top;\n",
       "    }\n",
       "\n",
       "    .dataframe thead th {\n",
       "        text-align: right;\n",
       "    }\n",
       "</style>\n",
       "<table border=\"1\" class=\"dataframe\">\n",
       "  <thead>\n",
       "    <tr style=\"text-align: right;\">\n",
       "      <th></th>\n",
       "      <th>title</th>\n",
       "      <th>text</th>\n",
       "      <th>subject</th>\n",
       "      <th>date</th>\n",
       "    </tr>\n",
       "  </thead>\n",
       "  <tbody>\n",
       "    <tr>\n",
       "      <th>0</th>\n",
       "      <td>Donald Trump Sends Out Embarrassing New Year’...</td>\n",
       "      <td>Donald Trump just couldn t wish all Americans ...</td>\n",
       "      <td>News</td>\n",
       "      <td>December 31, 2017</td>\n",
       "    </tr>\n",
       "    <tr>\n",
       "      <th>1</th>\n",
       "      <td>Drunk Bragging Trump Staffer Started Russian ...</td>\n",
       "      <td>House Intelligence Committee Chairman Devin Nu...</td>\n",
       "      <td>News</td>\n",
       "      <td>December 31, 2017</td>\n",
       "    </tr>\n",
       "    <tr>\n",
       "      <th>2</th>\n",
       "      <td>Sheriff David Clarke Becomes An Internet Joke...</td>\n",
       "      <td>On Friday, it was revealed that former Milwauk...</td>\n",
       "      <td>News</td>\n",
       "      <td>December 30, 2017</td>\n",
       "    </tr>\n",
       "    <tr>\n",
       "      <th>3</th>\n",
       "      <td>Trump Is So Obsessed He Even Has Obama’s Name...</td>\n",
       "      <td>On Christmas day, Donald Trump announced that ...</td>\n",
       "      <td>News</td>\n",
       "      <td>December 29, 2017</td>\n",
       "    </tr>\n",
       "    <tr>\n",
       "      <th>4</th>\n",
       "      <td>Pope Francis Just Called Out Donald Trump Dur...</td>\n",
       "      <td>Pope Francis used his annual Christmas Day mes...</td>\n",
       "      <td>News</td>\n",
       "      <td>December 25, 2017</td>\n",
       "    </tr>\n",
       "  </tbody>\n",
       "</table>\n",
       "</div>"
      ],
      "text/plain": [
       "                                               title  \\\n",
       "0   Donald Trump Sends Out Embarrassing New Year’...   \n",
       "1   Drunk Bragging Trump Staffer Started Russian ...   \n",
       "2   Sheriff David Clarke Becomes An Internet Joke...   \n",
       "3   Trump Is So Obsessed He Even Has Obama’s Name...   \n",
       "4   Pope Francis Just Called Out Donald Trump Dur...   \n",
       "\n",
       "                                                text subject  \\\n",
       "0  Donald Trump just couldn t wish all Americans ...    News   \n",
       "1  House Intelligence Committee Chairman Devin Nu...    News   \n",
       "2  On Friday, it was revealed that former Milwauk...    News   \n",
       "3  On Christmas day, Donald Trump announced that ...    News   \n",
       "4  Pope Francis used his annual Christmas Day mes...    News   \n",
       "\n",
       "                date  \n",
       "0  December 31, 2017  \n",
       "1  December 31, 2017  \n",
       "2  December 30, 2017  \n",
       "3  December 29, 2017  \n",
       "4  December 25, 2017  "
      ]
     },
     "execution_count": 7,
     "metadata": {},
     "output_type": "execute_result"
    }
   ],
   "source": [
    "print('There are',len(fake_df), 'total FAKE articles.')\n",
    "fake_df.head()"
   ]
  },
  {
   "cell_type": "code",
   "execution_count": 8,
   "id": "040cdb60",
   "metadata": {},
   "outputs": [],
   "source": [
    "fake_df['char_count'] = fake_df['title'].apply(len)\n",
    "fake_df['word_count'] = fake_df['title'].apply(lambda x: len(x.split()))\n",
    "fake_df['word_density'] = fake_df['char_count'] / (fake_df['word_count']+1)\n",
    "fake_df['punctuation_count'] = fake_df['title'].apply(lambda x: len(\"\".join(_ for _ in x if _ in string.punctuation))) \n",
    "fake_df['title_word_count'] = fake_df['title'].apply(lambda x: len([wrd for wrd in x.split() if wrd.istitle()]))\n",
    "fake_df['upper_case_word_count'] = fake_df['title'].apply(lambda x: len([wrd for wrd in x.split() if wrd.isupper()]))"
   ]
  },
  {
   "cell_type": "code",
   "execution_count": 9,
   "id": "6fd2d5c7",
   "metadata": {},
   "outputs": [],
   "source": [
    "fake_df['title_tokenized'] = fake_df['title'].fillna('').apply(lambda x: x.split())\n",
    "fake_df['title_pos'] = fake_df['title_tokenized'].apply(nltk.tag.pos_tag)"
   ]
  },
  {
   "cell_type": "code",
   "execution_count": 10,
   "id": "749bdfc5",
   "metadata": {},
   "outputs": [],
   "source": [
    "def NounCounter(x):\n",
    "    nouns = []\n",
    "    for (word, pos) in x:\n",
    "        if pos.startswith(\"NN\"):\n",
    "            nouns.append(word)\n",
    "    return nouns\n",
    "\n",
    "fake_df[\"nouns\"] = fake_df[\"title_pos\"].apply(NounCounter)\n",
    "fake_df[\"noun_count\"] = fake_df[\"nouns\"].str.len()\n",
    "\n",
    "def ProCounter(x):\n",
    "    pros = []\n",
    "    for (word, pos) in x:\n",
    "        if pos.startswith(\"PRP\"):\n",
    "            pros.append(word)\n",
    "    return pros\n",
    "\n",
    "fake_df[\"pros\"] = fake_df[\"title_pos\"].apply(ProCounter)\n",
    "fake_df[\"pro_count\"] = fake_df[\"pros\"].str.len()"
   ]
  },
  {
   "cell_type": "markdown",
   "id": "1b4376a7",
   "metadata": {},
   "source": [
    "### Create single dataframe containing all news articles"
   ]
  },
  {
   "cell_type": "code",
   "execution_count": 11,
   "id": "9ddeb8b3",
   "metadata": {},
   "outputs": [],
   "source": [
    "#create 'is_fake' column to differentiate the two once combined into single df.\n",
    "fake_df['is_fake'] = 1\n",
    "true_df['is_fake'] = 0"
   ]
  },
  {
   "cell_type": "code",
   "execution_count": 12,
   "id": "47583fea",
   "metadata": {},
   "outputs": [],
   "source": [
    "#combine into single df; axis set to 0 sets one df right on top of the other as opposed to side to side\n",
    "df = pd.concat([true_df, fake_df], axis=0)"
   ]
  },
  {
   "cell_type": "code",
   "execution_count": 13,
   "id": "c37322ab",
   "metadata": {},
   "outputs": [
    {
     "data": {
      "text/html": [
       "<div>\n",
       "<style scoped>\n",
       "    .dataframe tbody tr th:only-of-type {\n",
       "        vertical-align: middle;\n",
       "    }\n",
       "\n",
       "    .dataframe tbody tr th {\n",
       "        vertical-align: top;\n",
       "    }\n",
       "\n",
       "    .dataframe thead th {\n",
       "        text-align: right;\n",
       "    }\n",
       "</style>\n",
       "<table border=\"1\" class=\"dataframe\">\n",
       "  <thead>\n",
       "    <tr style=\"text-align: right;\">\n",
       "      <th></th>\n",
       "      <th>title</th>\n",
       "      <th>text</th>\n",
       "      <th>subject</th>\n",
       "      <th>date</th>\n",
       "      <th>char_count</th>\n",
       "      <th>word_count</th>\n",
       "      <th>word_density</th>\n",
       "      <th>punctuation_count</th>\n",
       "      <th>title_word_count</th>\n",
       "      <th>upper_case_word_count</th>\n",
       "      <th>title_tokenized</th>\n",
       "      <th>title_pos</th>\n",
       "      <th>nouns</th>\n",
       "      <th>noun_count</th>\n",
       "      <th>pros</th>\n",
       "      <th>pro_count</th>\n",
       "      <th>is_fake</th>\n",
       "    </tr>\n",
       "  </thead>\n",
       "  <tbody>\n",
       "    <tr>\n",
       "      <th>0</th>\n",
       "      <td>As U.S. budget fight looms, Republicans flip t...</td>\n",
       "      <td>WASHINGTON (Reuters) - The head of a conservat...</td>\n",
       "      <td>politicsNews</td>\n",
       "      <td>December 31, 2017</td>\n",
       "      <td>64</td>\n",
       "      <td>10</td>\n",
       "      <td>5.818182</td>\n",
       "      <td>3</td>\n",
       "      <td>3</td>\n",
       "      <td>1</td>\n",
       "      <td>[As, U.S., budget, fight, looms,, Republicans,...</td>\n",
       "      <td>[(As, IN), (U.S., NNP), (budget, NN), (fight, ...</td>\n",
       "      <td>[U.S., budget, fight, looms,, Republicans, scr...</td>\n",
       "      <td>6</td>\n",
       "      <td>[their]</td>\n",
       "      <td>1</td>\n",
       "      <td>0</td>\n",
       "    </tr>\n",
       "    <tr>\n",
       "      <th>1</th>\n",
       "      <td>U.S. military to accept transgender recruits o...</td>\n",
       "      <td>WASHINGTON (Reuters) - Transgender people will...</td>\n",
       "      <td>politicsNews</td>\n",
       "      <td>December 29, 2017</td>\n",
       "      <td>64</td>\n",
       "      <td>9</td>\n",
       "      <td>6.400000</td>\n",
       "      <td>3</td>\n",
       "      <td>3</td>\n",
       "      <td>1</td>\n",
       "      <td>[U.S., military, to, accept, transgender, recr...</td>\n",
       "      <td>[(U.S., NNP), (military, JJ), (to, TO), (accep...</td>\n",
       "      <td>[U.S., transgender, recruits, Monday:, Pentagon]</td>\n",
       "      <td>5</td>\n",
       "      <td>[]</td>\n",
       "      <td>0</td>\n",
       "      <td>0</td>\n",
       "    </tr>\n",
       "    <tr>\n",
       "      <th>2</th>\n",
       "      <td>Senior U.S. Republican senator: 'Let Mr. Muell...</td>\n",
       "      <td>WASHINGTON (Reuters) - The special counsel inv...</td>\n",
       "      <td>politicsNews</td>\n",
       "      <td>December 31, 2017</td>\n",
       "      <td>60</td>\n",
       "      <td>10</td>\n",
       "      <td>5.454545</td>\n",
       "      <td>6</td>\n",
       "      <td>6</td>\n",
       "      <td>1</td>\n",
       "      <td>[Senior, U.S., Republican, senator:, 'Let, Mr....</td>\n",
       "      <td>[(Senior, JJ), (U.S., NNP), (Republican, NNP),...</td>\n",
       "      <td>[U.S., Republican, senator:, Mr., Mueller, job']</td>\n",
       "      <td>6</td>\n",
       "      <td>[his]</td>\n",
       "      <td>1</td>\n",
       "      <td>0</td>\n",
       "    </tr>\n",
       "    <tr>\n",
       "      <th>3</th>\n",
       "      <td>FBI Russia probe helped by Australian diplomat...</td>\n",
       "      <td>WASHINGTON (Reuters) - Trump campaign adviser ...</td>\n",
       "      <td>politicsNews</td>\n",
       "      <td>December 30, 2017</td>\n",
       "      <td>59</td>\n",
       "      <td>9</td>\n",
       "      <td>5.900000</td>\n",
       "      <td>2</td>\n",
       "      <td>2</td>\n",
       "      <td>2</td>\n",
       "      <td>[FBI, Russia, probe, helped, by, Australian, d...</td>\n",
       "      <td>[(FBI, NNP), (Russia, NNP), (probe, NN), (help...</td>\n",
       "      <td>[FBI, Russia, probe, diplomat, NYT]</td>\n",
       "      <td>5</td>\n",
       "      <td>[]</td>\n",
       "      <td>0</td>\n",
       "      <td>0</td>\n",
       "    </tr>\n",
       "    <tr>\n",
       "      <th>4</th>\n",
       "      <td>Trump wants Postal Service to charge 'much mor...</td>\n",
       "      <td>SEATTLE/WASHINGTON (Reuters) - President Donal...</td>\n",
       "      <td>politicsNews</td>\n",
       "      <td>December 29, 2017</td>\n",
       "      <td>69</td>\n",
       "      <td>11</td>\n",
       "      <td>5.750000</td>\n",
       "      <td>2</td>\n",
       "      <td>4</td>\n",
       "      <td>0</td>\n",
       "      <td>[Trump, wants, Postal, Service, to, charge, 'm...</td>\n",
       "      <td>[(Trump, NN), (wants, VBZ), (Postal, NNP), (Se...</td>\n",
       "      <td>[Trump, Postal, Service, more', Amazon, shipme...</td>\n",
       "      <td>6</td>\n",
       "      <td>[]</td>\n",
       "      <td>0</td>\n",
       "      <td>0</td>\n",
       "    </tr>\n",
       "  </tbody>\n",
       "</table>\n",
       "</div>"
      ],
      "text/plain": [
       "                                               title  \\\n",
       "0  As U.S. budget fight looms, Republicans flip t...   \n",
       "1  U.S. military to accept transgender recruits o...   \n",
       "2  Senior U.S. Republican senator: 'Let Mr. Muell...   \n",
       "3  FBI Russia probe helped by Australian diplomat...   \n",
       "4  Trump wants Postal Service to charge 'much mor...   \n",
       "\n",
       "                                                text       subject  \\\n",
       "0  WASHINGTON (Reuters) - The head of a conservat...  politicsNews   \n",
       "1  WASHINGTON (Reuters) - Transgender people will...  politicsNews   \n",
       "2  WASHINGTON (Reuters) - The special counsel inv...  politicsNews   \n",
       "3  WASHINGTON (Reuters) - Trump campaign adviser ...  politicsNews   \n",
       "4  SEATTLE/WASHINGTON (Reuters) - President Donal...  politicsNews   \n",
       "\n",
       "                 date  char_count  word_count  word_density  \\\n",
       "0  December 31, 2017           64          10      5.818182   \n",
       "1  December 29, 2017           64           9      6.400000   \n",
       "2  December 31, 2017           60          10      5.454545   \n",
       "3  December 30, 2017           59           9      5.900000   \n",
       "4  December 29, 2017           69          11      5.750000   \n",
       "\n",
       "   punctuation_count  title_word_count  upper_case_word_count  \\\n",
       "0                  3                 3                      1   \n",
       "1                  3                 3                      1   \n",
       "2                  6                 6                      1   \n",
       "3                  2                 2                      2   \n",
       "4                  2                 4                      0   \n",
       "\n",
       "                                     title_tokenized  \\\n",
       "0  [As, U.S., budget, fight, looms,, Republicans,...   \n",
       "1  [U.S., military, to, accept, transgender, recr...   \n",
       "2  [Senior, U.S., Republican, senator:, 'Let, Mr....   \n",
       "3  [FBI, Russia, probe, helped, by, Australian, d...   \n",
       "4  [Trump, wants, Postal, Service, to, charge, 'm...   \n",
       "\n",
       "                                           title_pos  \\\n",
       "0  [(As, IN), (U.S., NNP), (budget, NN), (fight, ...   \n",
       "1  [(U.S., NNP), (military, JJ), (to, TO), (accep...   \n",
       "2  [(Senior, JJ), (U.S., NNP), (Republican, NNP),...   \n",
       "3  [(FBI, NNP), (Russia, NNP), (probe, NN), (help...   \n",
       "4  [(Trump, NN), (wants, VBZ), (Postal, NNP), (Se...   \n",
       "\n",
       "                                               nouns  noun_count     pros  \\\n",
       "0  [U.S., budget, fight, looms,, Republicans, scr...           6  [their]   \n",
       "1   [U.S., transgender, recruits, Monday:, Pentagon]           5       []   \n",
       "2   [U.S., Republican, senator:, Mr., Mueller, job']           6    [his]   \n",
       "3                [FBI, Russia, probe, diplomat, NYT]           5       []   \n",
       "4  [Trump, Postal, Service, more', Amazon, shipme...           6       []   \n",
       "\n",
       "   pro_count  is_fake  \n",
       "0          1        0  \n",
       "1          0        0  \n",
       "2          1        0  \n",
       "3          0        0  \n",
       "4          0        0  "
      ]
     },
     "execution_count": 13,
     "metadata": {},
     "output_type": "execute_result"
    }
   ],
   "source": [
    "#preview the data, notice is_fake is all 0 so we need to mix our rows up\n",
    "df.head()"
   ]
  },
  {
   "cell_type": "code",
   "execution_count": 14,
   "id": "cca47b6b",
   "metadata": {},
   "outputs": [
    {
     "data": {
      "text/html": [
       "<div>\n",
       "<style scoped>\n",
       "    .dataframe tbody tr th:only-of-type {\n",
       "        vertical-align: middle;\n",
       "    }\n",
       "\n",
       "    .dataframe tbody tr th {\n",
       "        vertical-align: top;\n",
       "    }\n",
       "\n",
       "    .dataframe thead th {\n",
       "        text-align: right;\n",
       "    }\n",
       "</style>\n",
       "<table border=\"1\" class=\"dataframe\">\n",
       "  <thead>\n",
       "    <tr style=\"text-align: right;\">\n",
       "      <th></th>\n",
       "      <th>title</th>\n",
       "      <th>text</th>\n",
       "      <th>subject</th>\n",
       "      <th>date</th>\n",
       "      <th>char_count</th>\n",
       "      <th>word_count</th>\n",
       "      <th>word_density</th>\n",
       "      <th>punctuation_count</th>\n",
       "      <th>title_word_count</th>\n",
       "      <th>upper_case_word_count</th>\n",
       "      <th>title_tokenized</th>\n",
       "      <th>title_pos</th>\n",
       "      <th>nouns</th>\n",
       "      <th>noun_count</th>\n",
       "      <th>pros</th>\n",
       "      <th>pro_count</th>\n",
       "      <th>is_fake</th>\n",
       "    </tr>\n",
       "  </thead>\n",
       "  <tbody>\n",
       "    <tr>\n",
       "      <th>14530</th>\n",
       "      <td>Brexit progress needed by early December to un...</td>\n",
       "      <td>GOTHENBURG, Sweden (Reuters) - European Counci...</td>\n",
       "      <td>worldnews</td>\n",
       "      <td>November 17, 2017</td>\n",
       "      <td>67</td>\n",
       "      <td>11</td>\n",
       "      <td>5.583333</td>\n",
       "      <td>2</td>\n",
       "      <td>3</td>\n",
       "      <td>0</td>\n",
       "      <td>[Brexit, progress, needed, by, early, December...</td>\n",
       "      <td>[(Brexit, NNP), (progress, NN), (needed, VBN),...</td>\n",
       "      <td>[Brexit, progress, December, talks:, EU's, Tusk]</td>\n",
       "      <td>6</td>\n",
       "      <td>[]</td>\n",
       "      <td>0</td>\n",
       "      <td>0</td>\n",
       "    </tr>\n",
       "    <tr>\n",
       "      <th>22774</th>\n",
       "      <td>Boiler Room EP #128 – “Free Speech… Not Withou...</td>\n",
       "      <td>Tune in to the Alternate Current Radio Network...</td>\n",
       "      <td>Middle-east</td>\n",
       "      <td>September 29, 2017</td>\n",
       "      <td>54</td>\n",
       "      <td>11</td>\n",
       "      <td>4.500000</td>\n",
       "      <td>1</td>\n",
       "      <td>7</td>\n",
       "      <td>1</td>\n",
       "      <td>[Boiler, Room, EP, #128, –, “Free, Speech…, No...</td>\n",
       "      <td>[(Boiler, NNP), (Room, NNP), (EP, NNP), (#128,...</td>\n",
       "      <td>[Boiler, Room, EP, #128, –, “Free, Speech…, War”]</td>\n",
       "      <td>8</td>\n",
       "      <td>[]</td>\n",
       "      <td>0</td>\n",
       "      <td>1</td>\n",
       "    </tr>\n",
       "    <tr>\n",
       "      <th>10108</th>\n",
       "      <td>BREITBART SENIOR EDITOR SPEAKS OUT On Bannon’s...</td>\n",
       "      <td>Joel Pollack has been with Breitbart News thro...</td>\n",
       "      <td>politics</td>\n",
       "      <td>Aug 18, 2017</td>\n",
       "      <td>90</td>\n",
       "      <td>13</td>\n",
       "      <td>6.428571</td>\n",
       "      <td>3</td>\n",
       "      <td>5</td>\n",
       "      <td>5</td>\n",
       "      <td>[BREITBART, SENIOR, EDITOR, SPEAKS, OUT, On, B...</td>\n",
       "      <td>[(BREITBART, NNP), (SENIOR, NNP), (EDITOR, NNP...</td>\n",
       "      <td>[BREITBART, SENIOR, EDITOR, SPEAKS, OUT, Banno...</td>\n",
       "      <td>10</td>\n",
       "      <td>[]</td>\n",
       "      <td>0</td>\n",
       "      <td>1</td>\n",
       "    </tr>\n",
       "    <tr>\n",
       "      <th>1345</th>\n",
       "      <td>Turkey urges U.S. to review visa suspension as...</td>\n",
       "      <td>ANKARA (Reuters) - Turkey urged the United Sta...</td>\n",
       "      <td>politicsNews</td>\n",
       "      <td>October 8, 2017</td>\n",
       "      <td>66</td>\n",
       "      <td>11</td>\n",
       "      <td>5.500000</td>\n",
       "      <td>3</td>\n",
       "      <td>2</td>\n",
       "      <td>1</td>\n",
       "      <td>[Turkey, urges, U.S., to, review, visa, suspen...</td>\n",
       "      <td>[(Turkey, NNP), (urges, VBZ), (U.S., NNP), (to...</td>\n",
       "      <td>[Turkey, U.S., suspension, stocks]</td>\n",
       "      <td>4</td>\n",
       "      <td>[]</td>\n",
       "      <td>0</td>\n",
       "      <td>0</td>\n",
       "    </tr>\n",
       "    <tr>\n",
       "      <th>22328</th>\n",
       "      <td>CNN Fake News vs Real News: First Images of Ab...</td>\n",
       "      <td>This week, the momentum in Syria shifted dram...</td>\n",
       "      <td>US_News</td>\n",
       "      <td>December 9, 2016</td>\n",
       "      <td>103</td>\n",
       "      <td>18</td>\n",
       "      <td>5.421053</td>\n",
       "      <td>2</td>\n",
       "      <td>13</td>\n",
       "      <td>2</td>\n",
       "      <td>[CNN, Fake, News, vs, Real, News:, First, Imag...</td>\n",
       "      <td>[(CNN, NNP), (Fake, NNP), (News, NNP), (vs, NN...</td>\n",
       "      <td>[CNN, Fake, News, vs, Real, News:, First, Imag...</td>\n",
       "      <td>14</td>\n",
       "      <td>[]</td>\n",
       "      <td>0</td>\n",
       "      <td>1</td>\n",
       "    </tr>\n",
       "  </tbody>\n",
       "</table>\n",
       "</div>"
      ],
      "text/plain": [
       "                                                   title  \\\n",
       "14530  Brexit progress needed by early December to un...   \n",
       "22774  Boiler Room EP #128 – “Free Speech… Not Withou...   \n",
       "10108  BREITBART SENIOR EDITOR SPEAKS OUT On Bannon’s...   \n",
       "1345   Turkey urges U.S. to review visa suspension as...   \n",
       "22328  CNN Fake News vs Real News: First Images of Ab...   \n",
       "\n",
       "                                                    text       subject  \\\n",
       "14530  GOTHENBURG, Sweden (Reuters) - European Counci...     worldnews   \n",
       "22774  Tune in to the Alternate Current Radio Network...   Middle-east   \n",
       "10108  Joel Pollack has been with Breitbart News thro...      politics   \n",
       "1345   ANKARA (Reuters) - Turkey urged the United Sta...  politicsNews   \n",
       "22328   This week, the momentum in Syria shifted dram...       US_News   \n",
       "\n",
       "                     date  char_count  word_count  word_density  \\\n",
       "14530  November 17, 2017           67          11      5.583333   \n",
       "22774  September 29, 2017          54          11      4.500000   \n",
       "10108        Aug 18, 2017          90          13      6.428571   \n",
       "1345     October 8, 2017           66          11      5.500000   \n",
       "22328    December 9, 2016         103          18      5.421053   \n",
       "\n",
       "       punctuation_count  title_word_count  upper_case_word_count  \\\n",
       "14530                  2                 3                      0   \n",
       "22774                  1                 7                      1   \n",
       "10108                  3                 5                      5   \n",
       "1345                   3                 2                      1   \n",
       "22328                  2                13                      2   \n",
       "\n",
       "                                         title_tokenized  \\\n",
       "14530  [Brexit, progress, needed, by, early, December...   \n",
       "22774  [Boiler, Room, EP, #128, –, “Free, Speech…, No...   \n",
       "10108  [BREITBART, SENIOR, EDITOR, SPEAKS, OUT, On, B...   \n",
       "1345   [Turkey, urges, U.S., to, review, visa, suspen...   \n",
       "22328  [CNN, Fake, News, vs, Real, News:, First, Imag...   \n",
       "\n",
       "                                               title_pos  \\\n",
       "14530  [(Brexit, NNP), (progress, NN), (needed, VBN),...   \n",
       "22774  [(Boiler, NNP), (Room, NNP), (EP, NNP), (#128,...   \n",
       "10108  [(BREITBART, NNP), (SENIOR, NNP), (EDITOR, NNP...   \n",
       "1345   [(Turkey, NNP), (urges, VBZ), (U.S., NNP), (to...   \n",
       "22328  [(CNN, NNP), (Fake, NNP), (News, NNP), (vs, NN...   \n",
       "\n",
       "                                                   nouns  noun_count pros  \\\n",
       "14530   [Brexit, progress, December, talks:, EU's, Tusk]           6   []   \n",
       "22774  [Boiler, Room, EP, #128, –, “Free, Speech…, War”]           8   []   \n",
       "10108  [BREITBART, SENIOR, EDITOR, SPEAKS, OUT, Banno...          10   []   \n",
       "1345                  [Turkey, U.S., suspension, stocks]           4   []   \n",
       "22328  [CNN, Fake, News, vs, Real, News:, First, Imag...          14   []   \n",
       "\n",
       "       pro_count  is_fake  \n",
       "14530          0        0  \n",
       "22774          0        1  \n",
       "10108          0        1  \n",
       "1345           0        0  \n",
       "22328          0        1  "
      ]
     },
     "execution_count": 14,
     "metadata": {},
     "output_type": "execute_result"
    }
   ],
   "source": [
    "#here we use shuffle from sklearn.utils to shuffle the data\n",
    "df = shuffle(df)\n",
    "df.head()"
   ]
  },
  {
   "cell_type": "code",
   "execution_count": 15,
   "id": "58790f4e",
   "metadata": {},
   "outputs": [
    {
     "name": "stdout",
     "output_type": "stream",
     "text": [
      "title\n",
      "text\n",
      "subject\n",
      "date\n",
      "char_count\n",
      "word_count\n",
      "word_density\n",
      "punctuation_count\n",
      "title_word_count\n",
      "upper_case_word_count\n",
      "title_tokenized\n",
      "title_pos\n",
      "nouns\n",
      "noun_count\n",
      "pros\n",
      "pro_count\n",
      "is_fake\n"
     ]
    }
   ],
   "source": [
    "for col in df.columns:\n",
    "    print (col)"
   ]
  },
  {
   "cell_type": "markdown",
   "id": "589f42f4",
   "metadata": {},
   "source": [
    "### Histogram to compare select features from both datasets"
   ]
  },
  {
   "cell_type": "code",
   "execution_count": 16,
   "id": "a0e12d04",
   "metadata": {},
   "outputs": [
    {
     "data": {
      "text/plain": [
       "Text(0.5, 0, 'Title Words in title')"
      ]
     },
     "execution_count": 16,
     "metadata": {},
     "output_type": "execute_result"
    },
    {
     "data": {
      "image/png": "[encoded data removed]",
      "text/plain": [
       "<Figure size 432x288 with 1 Axes>"
      ]
     },
     "metadata": {
      "needs_background": "light"
     },
     "output_type": "display_data"
    }
   ],
   "source": [
    "true_df['title_word_count'].plot.hist(bins= 20, alpha=0.5).set_xlabel(\"Title Words in title\")\n",
    "fake_df['title_word_count'].plot.hist(bins= 20, alpha=0.5).set_xlabel(\"Title Words in title\")"
   ]
  },
  {
   "cell_type": "code",
   "execution_count": 17,
   "id": "4a5c3589",
   "metadata": {},
   "outputs": [
    {
     "data": {
      "text/plain": [
       "Text(0.5, 0, 'Uppercase Words in title')"
      ]
     },
     "execution_count": 17,
     "metadata": {},
     "output_type": "execute_result"
    },
    {
     "data": {
      "image/png": "[encoded data removed]",
      "text/plain": [
       "<Figure size 432x288 with 1 Axes>"
      ]
     },
     "metadata": {
      "needs_background": "light"
     },
     "output_type": "display_data"
    }
   ],
   "source": [
    "true_df['upper_case_word_count'].plot.hist(bins= 20, alpha=0.5).set_xlabel(\"Uppercase Words in title\")\n",
    "fake_df['upper_case_word_count'].plot.hist(bins= 20, alpha=0.5).set_xlabel(\"Uppercase Words in title\")"
   ]
  },
  {
   "cell_type": "code",
   "execution_count": 18,
   "id": "85cf0a84",
   "metadata": {},
   "outputs": [
    {
     "data": {
      "text/plain": [
       "Text(0.5, 0, 'Noun Count in title')"
      ]
     },
     "execution_count": 18,
     "metadata": {},
     "output_type": "execute_result"
    },
    {
     "data": {
      "image/png": "[encoded data removed]",
      "text/plain": [
       "<Figure size 432x288 with 1 Axes>"
      ]
     },
     "metadata": {
      "needs_background": "light"
     },
     "output_type": "display_data"
    }
   ],
   "source": [
    "true_df['noun_count'].plot.hist(bins= 20, alpha=0.5).set_xlabel(\"Noun Count in title\")\n",
    "fake_df['noun_count'].plot.hist(bins= 20, alpha=0.5).set_xlabel(\"Noun Count in title\")"
   ]
  },
  {
   "cell_type": "markdown",
   "id": "37ced9a0",
   "metadata": {},
   "source": [
    "### Train Title model- Naive Bayes and Logistic Regression\n",
    "This model creates count vectors from the text of the titles"
   ]
  },
  {
   "cell_type": "code",
   "execution_count": 19,
   "id": "72f1d230",
   "metadata": {},
   "outputs": [],
   "source": [
    "X= df['title']\n",
    "y = df['is_fake']\n",
    "X_train, X_test, y_train, y_test = train_test_split(X,y,test_size=0.2,random_state=123,stratify=y)"
   ]
  },
  {
   "cell_type": "code",
   "execution_count": 20,
   "id": "57548eb3",
   "metadata": {},
   "outputs": [],
   "source": [
    "# label encode the target variable for ML --> numeric\n",
    "encoder = preprocessing.LabelEncoder()\n",
    "train_y = encoder.fit_transform(y_train)\n",
    "valid_y = encoder.fit_transform(y_test)\n",
    "\n",
    "\n",
    "# create a matrix. count_vect: every row represents a document from the corpus;\n",
    "# every column is a term from the corpus;\n",
    "# every cell represents the freq count of a particular term in particular document\n",
    " \n",
    "# create a count vectorizer object for the training data\n",
    "count_vect = CountVectorizer(analyzer='word', token_pattern=r'\\w{1,}') # word that appears 1 or more times\n",
    "count_vect.fit(df['title'])\n",
    "\n",
    "# transform the training and testing data using count vectorizer object: doc x term\n",
    "Xtrain_count =  count_vect.transform(X_train) \n",
    "Xtest_count =  count_vect.transform(X_test)"
   ]
  },
  {
   "cell_type": "code",
   "execution_count": 21,
   "id": "dd673da0",
   "metadata": {},
   "outputs": [],
   "source": [
    "# Model Building\n",
    "    \n",
    "def train_model(classifier, feature_vector_train, y, feature_vector_test, is_neural_net=False):\n",
    "# fit the training dataset on the classifier\n",
    "    classifier.fit(feature_vector_train, y)\n",
    "\n",
    "# predict the labels on validation dataset\n",
    "    predictions = classifier.predict(feature_vector_test)\n",
    "\n",
    "    if is_neural_net:\n",
    "        predictions = predictions.argmax(axis=-1)\n",
    "\n",
    "    return metrics.accuracy_score(predictions, valid_y) "
   ]
  },
  {
   "cell_type": "code",
   "execution_count": 22,
   "id": "2a12e15a",
   "metadata": {},
   "outputs": [
    {
     "name": "stdout",
     "output_type": "stream",
     "text": [
      "NB, Count Vectors:  0.9537861915367484\n"
     ]
    }
   ],
   "source": [
    "# Naive Bayes on Count Vectors\n",
    "accuracy = train_model(naive_bayes.MultinomialNB(), Xtrain_count, y_train, Xtest_count)\n",
    "print (\"NB, Count Vectors: \", accuracy)\n",
    "results_dict_model1 = {'description': 'NB, Count Vectors:', 'score': accuracy}"
   ]
  },
  {
   "cell_type": "code",
   "execution_count": 47,
   "id": "e8ae10ff",
   "metadata": {},
   "outputs": [
    {
     "name": "stdout",
     "output_type": "stream",
     "text": [
      "LR, Count Vectors:  0.9706013363028954\n"
     ]
    }
   ],
   "source": [
    "# Logistic Regression on Count Vectors\n",
    "accuracy = train_model(linear_model.LogisticRegression(solver=\"lbfgs\",multi_class=\"auto\",max_iter=4000), Xtrain_count, y_train, Xtest_count)\n",
    "print(\"LR, Count Vectors: \", accuracy)\n",
    "results_dict_model2 = {'description': 'LR, Count Vectors:', 'score': accuracy}"
   ]
  },
  {
   "cell_type": "markdown",
   "id": "30de5d45",
   "metadata": {},
   "source": [
    "### Train Title_Word_Count Model- Logistic Regression"
   ]
  },
  {
   "cell_type": "code",
   "execution_count": 38,
   "id": "bf521dd9",
   "metadata": {},
   "outputs": [],
   "source": [
    "X= df[['title_word_count']]\n",
    "y = df['is_fake']\n",
    "X_train, X_test, y_train, y_test = train_test_split(X,y,test_size=0.2,random_state=123,stratify=y)"
   ]
  },
  {
   "cell_type": "code",
   "execution_count": 39,
   "id": "9f964dc0",
   "metadata": {},
   "outputs": [],
   "source": [
    "logistic_regression = LogisticRegression()\n",
    "logistic_regression.fit(X_train, y_train)\n",
    "y_pred = logistic_regression.predict(X_test)\n",
    "results_dict_model3 = {'description': 'LR, Title_word_count:', 'score': metrics.accuracy_score(y_test, y_pred)}"
   ]
  },
  {
   "cell_type": "code",
   "execution_count": 40,
   "id": "846835ef",
   "metadata": {},
   "outputs": [
    {
     "data": {
      "text/plain": [
       "<AxesSubplot:xlabel='Predicted', ylabel='Actual'>"
      ]
     },
     "execution_count": 40,
     "metadata": {},
     "output_type": "execute_result"
    },
    {
     "data": {
      "image/png": "[encoded data removed]",
      "text/plain": [
       "<Figure size 432x288 with 2 Axes>"
      ]
     },
     "metadata": {
      "needs_background": "light"
     },
     "output_type": "display_data"
    }
   ],
   "source": [
    "lr_confusion_matrix = pd.crosstab(y_test, y_pred, rownames=['Actual'], colnames=['Predicted'])\n",
    "sns.heatmap(lr_confusion_matrix, annot=True, fmt=\"d\")"
   ]
  },
  {
   "cell_type": "code",
   "execution_count": 41,
   "id": "af9fab43",
   "metadata": {},
   "outputs": [
    {
     "name": "stdout",
     "output_type": "stream",
     "text": [
      "              precision    recall  f1-score   support\n",
      "\n",
      "           0       0.89      0.98      0.93      4284\n",
      "           1       0.98      0.89      0.93      4696\n",
      "\n",
      "    accuracy                           0.93      8980\n",
      "   macro avg       0.93      0.93      0.93      8980\n",
      "weighted avg       0.94      0.93      0.93      8980\n",
      "\n"
     ]
    }
   ],
   "source": [
    "print(metrics.classification_report(y_test, y_pred))"
   ]
  },
  {
   "cell_type": "markdown",
   "id": "a9e427a5",
   "metadata": {},
   "source": [
    "### Train Title_Word_Count and Noun Count Model- Logistic Regression"
   ]
  },
  {
   "cell_type": "code",
   "execution_count": 42,
   "id": "948a62e3",
   "metadata": {},
   "outputs": [],
   "source": [
    "X= df[['title_word_count','noun_count']]\n",
    "y = df['is_fake']\n",
    "X_train, X_test, y_train, y_test = train_test_split(X,y,test_size=0.2,random_state=123,stratify=y)"
   ]
  },
  {
   "cell_type": "code",
   "execution_count": 43,
   "id": "7728daa7",
   "metadata": {},
   "outputs": [],
   "source": [
    "logistic_regression = LogisticRegression()\n",
    "logistic_regression.fit(X_train, y_train)\n",
    "y_pred = logistic_regression.predict(X_test)\n",
    "results_dict_model4 = {'description': 'LR, Title_word_count and Noun_count:', 'score': metrics.accuracy_score(y_test, y_pred)}"
   ]
  },
  {
   "cell_type": "code",
   "execution_count": 44,
   "id": "2ce9bc41",
   "metadata": {},
   "outputs": [
    {
     "data": {
      "text/plain": [
       "<AxesSubplot:xlabel='Predicted', ylabel='Actual'>"
      ]
     },
     "execution_count": 44,
     "metadata": {},
     "output_type": "execute_result"
    },
    {
     "data": {
      "image/png": "[encoded data removed]",
      "text/plain": [
       "<Figure size 432x288 with 2 Axes>"
      ]
     },
     "metadata": {
      "needs_background": "light"
     },
     "output_type": "display_data"
    }
   ],
   "source": [
    "lr2_confusion_matrix = pd.crosstab(y_test, y_pred, rownames=['Actual'], colnames=['Predicted'])\n",
    "sns.heatmap(lr2_confusion_matrix, annot=True, fmt=\"d\")"
   ]
  },
  {
   "cell_type": "code",
   "execution_count": 45,
   "id": "e728616d",
   "metadata": {},
   "outputs": [
    {
     "name": "stdout",
     "output_type": "stream",
     "text": [
      "              precision    recall  f1-score   support\n",
      "\n",
      "           0       0.93      0.97      0.95      4284\n",
      "           1       0.97      0.93      0.95      4696\n",
      "\n",
      "    accuracy                           0.95      8980\n",
      "   macro avg       0.95      0.95      0.95      8980\n",
      "weighted avg       0.95      0.95      0.95      8980\n",
      "\n"
     ]
    }
   ],
   "source": [
    "print(metrics.classification_report(y_test, y_pred))"
   ]
  },
  {
   "cell_type": "code",
   "execution_count": 48,
   "id": "d28006db",
   "metadata": {},
   "outputs": [
    {
     "data": {
      "text/html": [
       "<div>\n",
       "<style scoped>\n",
       "    .dataframe tbody tr th:only-of-type {\n",
       "        vertical-align: middle;\n",
       "    }\n",
       "\n",
       "    .dataframe tbody tr th {\n",
       "        vertical-align: top;\n",
       "    }\n",
       "\n",
       "    .dataframe thead th {\n",
       "        text-align: right;\n",
       "    }\n",
       "</style>\n",
       "<table border=\"1\" class=\"dataframe\">\n",
       "  <thead>\n",
       "    <tr style=\"text-align: right;\">\n",
       "      <th></th>\n",
       "      <th>description</th>\n",
       "      <th>score</th>\n",
       "    </tr>\n",
       "  </thead>\n",
       "  <tbody>\n",
       "    <tr>\n",
       "      <th>0</th>\n",
       "      <td>NB, Count Vectors:</td>\n",
       "      <td>0.953786</td>\n",
       "    </tr>\n",
       "    <tr>\n",
       "      <th>1</th>\n",
       "      <td>LR, Count Vectors:</td>\n",
       "      <td>0.970601</td>\n",
       "    </tr>\n",
       "    <tr>\n",
       "      <th>2</th>\n",
       "      <td>LR, Title_word_count:</td>\n",
       "      <td>0.931403</td>\n",
       "    </tr>\n",
       "    <tr>\n",
       "      <th>3</th>\n",
       "      <td>LR, Title_word_count and Noun_count:</td>\n",
       "      <td>0.947216</td>\n",
       "    </tr>\n",
       "  </tbody>\n",
       "</table>\n",
       "</div>"
      ],
      "text/plain": [
       "                            description     score\n",
       "0                    NB, Count Vectors:  0.953786\n",
       "1                    LR, Count Vectors:  0.970601\n",
       "2                 LR, Title_word_count:  0.931403\n",
       "3  LR, Title_word_count and Noun_count:  0.947216"
      ]
     },
     "execution_count": 48,
     "metadata": {},
     "output_type": "execute_result"
    }
   ],
   "source": [
    "results_table = pd.DataFrame([results_dict_model1, results_dict_model2, results_dict_model3, results_dict_model4])\n",
    "results_table"
   ]
  },
  {
   "cell_type": "markdown",
   "id": "0c91a9d0",
   "metadata": {},
   "source": [
    "The best performing model was the Logistic Regression model with count vectors, this is just the count of the words that are in the text but with some more features, such as the title word counts and the noun counts we get a similiarly high accuracy of 94%"
   ]
  }
 ],
 "metadata": {
  "kernelspec": {
   "display_name": "Python 3",
   "language": "python",
   "name": "python3"
  },
  "language_info": {
   "codemirror_mode": {
    "name": "ipython",
    "version": 3
   },
   "file_extension": ".py",
   "mimetype": "text/x-python",
   "name": "python",
   "nbconvert_exporter": "python",
   "pygments_lexer": "ipython3",
   "version": "3.8.3"
  }
 },
 "nbformat": 4,
 "nbformat_minor": 5
}
